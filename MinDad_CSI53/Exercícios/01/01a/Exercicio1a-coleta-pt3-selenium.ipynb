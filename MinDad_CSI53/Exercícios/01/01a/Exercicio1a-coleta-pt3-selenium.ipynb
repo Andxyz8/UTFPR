{
 "cells": [
  {
   "cell_type": "markdown",
   "metadata": {},
   "source": [
    "### Importando os módulos necessários"
   ]
  },
  {
   "cell_type": "code",
   "execution_count": 14,
   "metadata": {},
   "outputs": [],
   "source": [
    "from selenium import webdriver"
   ]
  },
  {
   "cell_type": "markdown",
   "metadata": {},
   "source": [
    "### Execução da automação\n",
    "\n",
    "- Informações sobre o método `scrollTo`\n",
    "\n",
    "- https://developer.mozilla.org/en-US/docs/Web/API/Element/scrollTo#behavior"
   ]
  },
  {
   "cell_type": "code",
   "execution_count": 19,
   "metadata": {},
   "outputs": [],
   "source": [
    "# Não é mais necessário a utilização de webdrivers executaveis localmente\n",
    "# pois o Selenium WebDriver, em novas versões, já possui o driver do Chrome embutido\n",
    "\n",
    "# Cria uma instância do Chrome WebDriver\n",
    "driver = webdriver.Chrome()\n",
    "\n",
    "# Abre o site do UOL\n",
    "driver.get(\"https://www.uol.com.br\")\n",
    "\n",
    "script_rolagem = \"\"\"\n",
    "    window.scrollTo(\n",
    "        {\n",
    "            top: document.body.scrollHeight,\n",
    "            left: 0,\n",
    "            behavior: \"smooth\"\n",
    "        }\n",
    "    );\n",
    "\"\"\"\n",
    "\n",
    "# Executa o script de rolagem\n",
    "driver.execute_script(script_rolagem)\n",
    "\n",
    "# Para conseguir visualizar a rolagem, é necessário não encerrar o browser\n",
    "# Fecha o browser\n",
    "# driver.quit()\n"
   ]
  }
 ],
 "metadata": {
  "kernelspec": {
   "display_name": ".venv",
   "language": "python",
   "name": "python3"
  },
  "language_info": {
   "codemirror_mode": {
    "name": "ipython",
    "version": 3
   },
   "file_extension": ".py",
   "mimetype": "text/x-python",
   "name": "python",
   "nbconvert_exporter": "python",
   "pygments_lexer": "ipython3",
   "version": "3.12.2"
  }
 },
 "nbformat": 4,
 "nbformat_minor": 2
}
